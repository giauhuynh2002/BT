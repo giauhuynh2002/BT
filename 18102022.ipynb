{
  "nbformat": 4,
  "nbformat_minor": 0,
  "metadata": {
    "colab": {
      "provenance": [],
      "authorship_tag": "ABX9TyMqrsE9nFtK1YovqNc59uul",
      "include_colab_link": true
    },
    "kernelspec": {
      "name": "python3",
      "display_name": "Python 3"
    },
    "language_info": {
      "name": "python"
    }
  },
  "cells": [
    {
      "cell_type": "markdown",
      "metadata": {
        "id": "view-in-github",
        "colab_type": "text"
      },
      "source": [
        "<a href=\"https://colab.research.google.com/github/giauhuynh2002/HuynhPhatGiau-20104026/blob/main/18102022.ipynb\" target=\"_parent\"><img src=\"https://colab.research.google.com/assets/colab-badge.svg\" alt=\"Open In Colab\"/></a>"
      ]
    },
    {
      "cell_type": "code",
      "execution_count": null,
      "metadata": {
        "colab": {
          "base_uri": "https://localhost:8080/"
        },
        "id": "MAcd6a_f05bj",
        "outputId": "24c2e776-cf2e-4b6b-e82a-d80f7c3eb845"
      },
      "outputs": [
        {
          "output_type": "stream",
          "name": "stdout",
          "text": [
            "Downloading data from https://storage.googleapis.com/tensorflow/tf-keras-datasets/mnist.npz\n",
            "11490434/11490434 [==============================] - 0s 0us/step\n"
          ]
        },
        {
          "output_type": "execute_result",
          "data": {
            "text/plain": [
              "(10000, 28, 28)"
            ]
          },
          "metadata": {},
          "execution_count": 44
        }
      ],
      "source": [
        "from keras.datasets import mnist\n",
        "(train_images, train_labels),(test_images, test_labels)=mnist.load_data()\n",
        "train_images.shape\n",
        "train_labels.shape\n",
        "test_labels.shape\n",
        "test_images.shape \n"
      ]
    },
    {
      "cell_type": "code",
      "source": [
        "import matplotlib.pyplot as plt\n",
        "plt.imshow(train_images[50])\n",
        "plt.show()\n",
        "print(test_labels[50])"
      ],
      "metadata": {
        "colab": {
          "base_uri": "https://localhost:8080/",
          "height": 282
        },
        "id": "w4btKtu223eh",
        "outputId": "ab2d32df-a396-4274-bd2b-24e59286c325"
      },
      "execution_count": null,
      "outputs": [
        {
          "output_type": "display_data",
          "data": {
            "text/plain": [
              "<Figure size 432x288 with 1 Axes>"
            ],
            "image/png": "[encoded data removed]"
          },
          "metadata": {
            "needs_background": "light"
          }
        },
        {
          "output_type": "stream",
          "name": "stdout",
          "text": [
            "6\n"
          ]
        }
      ]
    },
    {
      "cell_type": "code",
      "source": [
        "from keras import models\n",
        "from keras import layers\n",
        "model= models.Sequential()\n",
        "model.add(layers.Dense(512,activation='relu',input_shape=(28*28,)))\n",
        "model.add(layers.Dense(10,activation='softmax'))\n",
        "model.summary()"
      ],
      "metadata": {
        "colab": {
          "base_uri": "https://localhost:8080/"
        },
        "id": "wZ9mAx5n4XNK",
        "outputId": "cbfbf6b5-9fe3-44dc-c440-881bd93492c7"
      },
      "execution_count": null,
      "outputs": [
        {
          "output_type": "stream",
          "name": "stdout",
          "text": [
            "Model: \"sequential\"\n",
            "_________________________________________________________________\n",
            " Layer (type)                Output Shape              Param #   \n",
            "=================================================================\n",
            " dense (Dense)               (None, 512)               401920    \n",
            "                                                                 \n",
            " dense_1 (Dense)             (None, 10)                5130      \n",
            "                                                                 \n",
            "=================================================================\n",
            "Total params: 407,050\n",
            "Trainable params: 407,050\n",
            "Non-trainable params: 0\n",
            "_________________________________________________________________\n"
          ]
        }
      ]
    },
    {
      "cell_type": "code",
      "source": [
        "train_images=train_images.reshape((60000,28*28))\n",
        "train_images=train_images.astype('float32')/255\n",
        "test_images=test_images.reshape((10000,28*28))\n",
        "test_images=test_images.astype('float32')/255\n",
        "train_images.shape"
      ],
      "metadata": {
        "colab": {
          "base_uri": "https://localhost:8080/"
        },
        "id": "5NgXhUE18S4_",
        "outputId": "8021e0fc-f702-4cac-bbeb-e54db37c518b"
      },
      "execution_count": null,
      "outputs": [
        {
          "output_type": "execute_result",
          "data": {
            "text/plain": [
              "(60000, 784)"
            ]
          },
          "metadata": {},
          "execution_count": 47
        }
      ]
    },
    {
      "cell_type": "code",
      "source": [
        "from keras.utils import to_categorical\n",
        "train_labels= to_categorical(train_labels)\n",
        "test_labels= to_categorical(test_labels)\n",
        "train_labels.shape"
      ],
      "metadata": {
        "colab": {
          "base_uri": "https://localhost:8080/"
        },
        "id": "qDHNhBp_-mEw",
        "outputId": "566f4e69-7eb1-4c72-bb1a-be51717252fc"
      },
      "execution_count": null,
      "outputs": [
        {
          "output_type": "execute_result",
          "data": {
            "text/plain": [
              "(60000, 10)"
            ]
          },
          "metadata": {},
          "execution_count": 49
        }
      ]
    },
    {
      "cell_type": "code",
      "source": [
        "model.compile(optimizer='rmsprop',loss='categorical_crossentropy',metrics=['accuracy'])\n",
        "model.fit(train_images,train_labels,epochs=100,batch_size=128)\n"
      ],
      "metadata": {
        "colab": {
          "base_uri": "https://localhost:8080/"
        },
        "id": "BgRvYm6fAb3Y",
        "outputId": "639c42f0-2940-47a2-a42d-a1b204f26dee"
      },
      "execution_count": null,
      "outputs": [
        {
          "output_type": "stream",
          "name": "stdout",
          "text": [
            "Epoch 1/100\n",
            "469/469 [==============================] - 6s 10ms/step - loss: 0.2519 - accuracy: 0.9274\n",
            "Epoch 2/100\n",
            "469/469 [==============================] - 5s 10ms/step - loss: 0.1028 - accuracy: 0.9694\n",
            "Epoch 3/100\n",
            "469/469 [==============================] - 5s 11ms/step - loss: 0.0676 - accuracy: 0.9798\n",
            "Epoch 4/100\n",
            "469/469 [==============================] - 5s 11ms/step - loss: 0.0493 - accuracy: 0.9849\n",
            "Epoch 5/100\n",
            "469/469 [==============================] - 5s 11ms/step - loss: 0.0370 - accuracy: 0.9890\n",
            "Epoch 6/100\n",
            "469/469 [==============================] - 5s 11ms/step - loss: 0.0278 - accuracy: 0.9916\n",
            "Epoch 7/100\n",
            "469/469 [==============================] - 5s 11ms/step - loss: 0.0218 - accuracy: 0.9935\n",
            "Epoch 8/100\n",
            "469/469 [==============================] - 5s 11ms/step - loss: 0.0169 - accuracy: 0.9952\n",
            "Epoch 9/100\n",
            "469/469 [==============================] - 7s 15ms/step - loss: 0.0128 - accuracy: 0.9962\n",
            "Epoch 10/100\n",
            "469/469 [==============================] - 5s 10ms/step - loss: 0.0099 - accuracy: 0.9974\n",
            "Epoch 11/100\n",
            "469/469 [==============================] - 5s 11ms/step - loss: 0.0076 - accuracy: 0.9982\n",
            "Epoch 12/100\n",
            "469/469 [==============================] - 5s 11ms/step - loss: 0.0061 - accuracy: 0.9984\n",
            "Epoch 13/100\n",
            "469/469 [==============================] - 5s 11ms/step - loss: 0.0046 - accuracy: 0.9988\n",
            "Epoch 14/100\n",
            "469/469 [==============================] - 5s 10ms/step - loss: 0.0040 - accuracy: 0.9989\n",
            "Epoch 15/100\n",
            "469/469 [==============================] - 5s 11ms/step - loss: 0.0028 - accuracy: 0.9992\n",
            "Epoch 16/100\n",
            "469/469 [==============================] - 5s 10ms/step - loss: 0.0023 - accuracy: 0.9994\n",
            "Epoch 17/100\n",
            "469/469 [==============================] - 5s 11ms/step - loss: 0.0019 - accuracy: 0.9994\n",
            "Epoch 18/100\n",
            "469/469 [==============================] - 5s 11ms/step - loss: 0.0014 - accuracy: 0.9997\n",
            "Epoch 19/100\n",
            "469/469 [==============================] - 5s 11ms/step - loss: 0.0012 - accuracy: 0.9997\n",
            "Epoch 20/100\n",
            "469/469 [==============================] - 5s 11ms/step - loss: 7.4123e-04 - accuracy: 0.9998\n",
            "Epoch 21/100\n",
            "469/469 [==============================] - 5s 11ms/step - loss: 6.7408e-04 - accuracy: 0.9998\n",
            "Epoch 22/100\n",
            "469/469 [==============================] - 5s 11ms/step - loss: 6.4784e-04 - accuracy: 0.9997\n",
            "Epoch 23/100\n",
            "469/469 [==============================] - 5s 10ms/step - loss: 5.2453e-04 - accuracy: 0.9998\n",
            "Epoch 24/100\n",
            "469/469 [==============================] - 5s 10ms/step - loss: 2.9812e-04 - accuracy: 0.9999\n",
            "Epoch 25/100\n",
            "469/469 [==============================] - 5s 10ms/step - loss: 3.7736e-04 - accuracy: 0.9999\n",
            "Epoch 26/100\n",
            "469/469 [==============================] - 6s 13ms/step - loss: 2.2305e-04 - accuracy: 0.9999\n",
            "Epoch 27/100\n",
            "469/469 [==============================] - 5s 10ms/step - loss: 2.2693e-04 - accuracy: 0.9999\n",
            "Epoch 28/100\n",
            "469/469 [==============================] - 5s 10ms/step - loss: 1.7106e-04 - accuracy: 0.9999\n",
            "Epoch 29/100\n",
            "469/469 [==============================] - 5s 10ms/step - loss: 1.6378e-04 - accuracy: 0.9999\n",
            "Epoch 30/100\n",
            "469/469 [==============================] - 5s 10ms/step - loss: 5.3590e-05 - accuracy: 1.0000\n",
            "Epoch 31/100\n",
            "469/469 [==============================] - 5s 10ms/step - loss: 1.5485e-04 - accuracy: 0.9999\n",
            "Epoch 32/100\n",
            "469/469 [==============================] - 5s 10ms/step - loss: 7.4924e-05 - accuracy: 1.0000\n",
            "Epoch 33/100\n",
            "469/469 [==============================] - 5s 10ms/step - loss: 8.2712e-05 - accuracy: 1.0000\n",
            "Epoch 34/100\n",
            "469/469 [==============================] - 5s 11ms/step - loss: 7.8880e-05 - accuracy: 1.0000\n",
            "Epoch 35/100\n",
            "469/469 [==============================] - 5s 10ms/step - loss: 5.0945e-05 - accuracy: 1.0000\n",
            "Epoch 36/100\n",
            "469/469 [==============================] - 5s 10ms/step - loss: 3.2201e-05 - accuracy: 1.0000\n",
            "Epoch 37/100\n",
            "469/469 [==============================] - 5s 10ms/step - loss: 5.8247e-06 - accuracy: 1.0000\n",
            "Epoch 38/100\n",
            "469/469 [==============================] - 5s 10ms/step - loss: 1.9357e-05 - accuracy: 1.0000\n",
            "Epoch 39/100\n",
            "469/469 [==============================] - 5s 10ms/step - loss: 8.0832e-06 - accuracy: 1.0000\n",
            "Epoch 40/100\n",
            "469/469 [==============================] - 5s 10ms/step - loss: 2.0556e-05 - accuracy: 1.0000\n",
            "Epoch 41/100\n",
            "469/469 [==============================] - 5s 10ms/step - loss: 2.8575e-07 - accuracy: 1.0000\n",
            "Epoch 42/100\n",
            "469/469 [==============================] - 5s 10ms/step - loss: 4.2917e-07 - accuracy: 1.0000\n",
            "Epoch 43/100\n",
            "469/469 [==============================] - 5s 10ms/step - loss: 4.9954e-08 - accuracy: 1.0000\n",
            "Epoch 44/100\n",
            "469/469 [==============================] - 5s 10ms/step - loss: 2.9969e-08 - accuracy: 1.0000\n",
            "Epoch 45/100\n",
            "469/469 [==============================] - 5s 10ms/step - loss: 2.5243e-08 - accuracy: 1.0000\n",
            "Epoch 46/100\n",
            "469/469 [==============================] - 5s 10ms/step - loss: 2.0081e-08 - accuracy: 1.0000\n",
            "Epoch 47/100\n",
            "469/469 [==============================] - 5s 10ms/step - loss: 1.8273e-08 - accuracy: 1.0000\n",
            "Epoch 48/100\n",
            "469/469 [==============================] - 5s 10ms/step - loss: 1.6626e-08 - accuracy: 1.0000\n",
            "Epoch 49/100\n",
            "469/469 [==============================] - 5s 10ms/step - loss: 1.5436e-08 - accuracy: 1.0000\n",
            "Epoch 50/100\n",
            "469/469 [==============================] - 5s 10ms/step - loss: 1.4569e-08 - accuracy: 1.0000\n",
            "Epoch 51/100\n",
            "469/469 [==============================] - 5s 10ms/step - loss: 1.3590e-08 - accuracy: 1.0000\n",
            "Epoch 52/100\n",
            "469/469 [==============================] - 5s 10ms/step - loss: 1.2984e-08 - accuracy: 1.0000\n",
            "Epoch 53/100\n",
            "469/469 [==============================] - 5s 10ms/step - loss: 1.2358e-08 - accuracy: 1.0000\n",
            "Epoch 54/100\n",
            "469/469 [==============================] - 5s 10ms/step - loss: 1.1754e-08 - accuracy: 1.0000\n",
            "Epoch 55/100\n",
            "469/469 [==============================] - 5s 10ms/step - loss: 1.1204e-08 - accuracy: 1.0000\n",
            "Epoch 56/100\n",
            "469/469 [==============================] - 5s 10ms/step - loss: 1.0784e-08 - accuracy: 1.0000\n",
            "Epoch 57/100\n",
            "469/469 [==============================] - 5s 10ms/step - loss: 1.0371e-08 - accuracy: 1.0000\n",
            "Epoch 58/100\n",
            "469/469 [==============================] - 5s 10ms/step - loss: 1.0024e-08 - accuracy: 1.0000\n",
            "Epoch 59/100\n",
            "469/469 [==============================] - 5s 10ms/step - loss: 9.6798e-09 - accuracy: 1.0000\n",
            "Epoch 60/100\n",
            "469/469 [==============================] - 5s 10ms/step - loss: 9.3063e-09 - accuracy: 1.0000\n",
            "Epoch 61/100\n",
            "469/469 [==============================] - 5s 10ms/step - loss: 9.0301e-09 - accuracy: 1.0000\n",
            "Epoch 62/100\n",
            "469/469 [==============================] - 5s 10ms/step - loss: 8.7440e-09 - accuracy: 1.0000\n",
            "Epoch 63/100\n",
            "469/469 [==============================] - 5s 11ms/step - loss: 8.4857e-09 - accuracy: 1.0000\n",
            "Epoch 64/100\n",
            "469/469 [==============================] - 5s 10ms/step - loss: 8.2950e-09 - accuracy: 1.0000\n",
            "Epoch 65/100\n",
            "469/469 [==============================] - 5s 11ms/step - loss: 8.1221e-09 - accuracy: 1.0000\n",
            "Epoch 66/100\n",
            "469/469 [==============================] - 5s 10ms/step - loss: 7.8996e-09 - accuracy: 1.0000\n",
            "Epoch 67/100\n",
            "469/469 [==============================] - 5s 10ms/step - loss: 7.6830e-09 - accuracy: 1.0000\n",
            "Epoch 68/100\n",
            "469/469 [==============================] - 5s 11ms/step - loss: 7.5519e-09 - accuracy: 1.0000\n",
            "Epoch 69/100\n",
            "469/469 [==============================] - 6s 13ms/step - loss: 7.3274e-09 - accuracy: 1.0000\n",
            "Epoch 70/100\n",
            "469/469 [==============================] - 5s 11ms/step - loss: 7.2122e-09 - accuracy: 1.0000\n",
            "Epoch 71/100\n",
            "469/469 [==============================] - 5s 11ms/step - loss: 7.0691e-09 - accuracy: 1.0000\n",
            "Epoch 72/100\n",
            "469/469 [==============================] - 5s 11ms/step - loss: 6.9638e-09 - accuracy: 1.0000\n",
            "Epoch 73/100\n",
            "469/469 [==============================] - 5s 11ms/step - loss: 6.7393e-09 - accuracy: 1.0000\n",
            "Epoch 74/100\n",
            "469/469 [==============================] - 5s 11ms/step - loss: 6.6559e-09 - accuracy: 1.0000\n",
            "Epoch 75/100\n",
            "469/469 [==============================] - 5s 11ms/step - loss: 6.5704e-09 - accuracy: 1.0000\n",
            "Epoch 76/100\n",
            "469/469 [==============================] - 5s 11ms/step - loss: 6.4711e-09 - accuracy: 1.0000\n",
            "Epoch 77/100\n",
            "469/469 [==============================] - 5s 11ms/step - loss: 6.3558e-09 - accuracy: 1.0000\n",
            "Epoch 78/100\n",
            "469/469 [==============================] - 5s 11ms/step - loss: 6.2406e-09 - accuracy: 1.0000\n",
            "Epoch 79/100\n",
            "469/469 [==============================] - 5s 11ms/step - loss: 6.1532e-09 - accuracy: 1.0000\n",
            "Epoch 80/100\n",
            "469/469 [==============================] - 5s 11ms/step - loss: 6.1015e-09 - accuracy: 1.0000\n",
            "Epoch 81/100\n",
            "469/469 [==============================] - 5s 11ms/step - loss: 5.9565e-09 - accuracy: 1.0000\n",
            "Epoch 82/100\n",
            "469/469 [==============================] - 5s 11ms/step - loss: 5.8889e-09 - accuracy: 1.0000\n",
            "Epoch 83/100\n",
            "469/469 [==============================] - 5s 10ms/step - loss: 5.7956e-09 - accuracy: 1.0000\n",
            "Epoch 84/100\n",
            "469/469 [==============================] - 5s 11ms/step - loss: 5.7558e-09 - accuracy: 1.0000\n",
            "Epoch 85/100\n",
            "469/469 [==============================] - 5s 11ms/step - loss: 5.6863e-09 - accuracy: 1.0000\n",
            "Epoch 86/100\n",
            "469/469 [==============================] - 5s 11ms/step - loss: 5.6048e-09 - accuracy: 1.0000\n",
            "Epoch 87/100\n",
            "469/469 [==============================] - 5s 11ms/step - loss: 5.5313e-09 - accuracy: 1.0000\n",
            "Epoch 88/100\n",
            "469/469 [==============================] - 5s 11ms/step - loss: 5.4777e-09 - accuracy: 1.0000\n",
            "Epoch 89/100\n",
            "469/469 [==============================] - 5s 11ms/step - loss: 5.4081e-09 - accuracy: 1.0000\n",
            "Epoch 90/100\n",
            "469/469 [==============================] - 5s 11ms/step - loss: 5.3585e-09 - accuracy: 1.0000\n",
            "Epoch 91/100\n",
            "469/469 [==============================] - 5s 11ms/step - loss: 5.2949e-09 - accuracy: 1.0000\n",
            "Epoch 92/100\n",
            "469/469 [==============================] - 5s 10ms/step - loss: 5.2750e-09 - accuracy: 1.0000\n",
            "Epoch 93/100\n",
            "469/469 [==============================] - 5s 11ms/step - loss: 5.2273e-09 - accuracy: 1.0000\n",
            "Epoch 94/100\n",
            "469/469 [==============================] - 5s 11ms/step - loss: 5.2492e-09 - accuracy: 1.0000\n",
            "Epoch 95/100\n",
            "469/469 [==============================] - 5s 10ms/step - loss: 5.1677e-09 - accuracy: 1.0000\n",
            "Epoch 96/100\n",
            "469/469 [==============================] - 5s 10ms/step - loss: 5.0902e-09 - accuracy: 1.0000\n",
            "Epoch 97/100\n",
            "469/469 [==============================] - 5s 10ms/step - loss: 5.0783e-09 - accuracy: 1.0000\n",
            "Epoch 98/100\n",
            "469/469 [==============================] - 5s 10ms/step - loss: 5.0823e-09 - accuracy: 1.0000\n",
            "Epoch 99/100\n",
            "469/469 [==============================] - 5s 10ms/step - loss: 5.0406e-09 - accuracy: 1.0000\n",
            "Epoch 100/100\n",
            "469/469 [==============================] - 5s 10ms/step - loss: 4.9690e-09 - accuracy: 1.0000\n"
          ]
        },
        {
          "output_type": "execute_result",
          "data": {
            "text/plain": [
              "<keras.callbacks.History at 0x7fdc06789250>"
            ]
          },
          "metadata": {},
          "execution_count": 50
        }
      ]
    },
    {
      "cell_type": "code",
      "source": [
        "test_loss, test_acc=model.evaluate(test_images,test_labels)\n",
        "print('Test accuracy:',test_acc)"
      ],
      "metadata": {
        "colab": {
          "base_uri": "https://localhost:8080/"
        },
        "id": "nZgGaVbcCD7D",
        "outputId": "7569fa1c-f624-4b71-ff8a-82481a6d175c"
      },
      "execution_count": null,
      "outputs": [
        {
          "output_type": "stream",
          "name": "stdout",
          "text": [
            "313/313 [==============================] - 1s 3ms/step - loss: 0.1557 - accuracy: 0.9840\n",
            "Test accuracy: 0.984000027179718\n"
          ]
        }
      ]
    },
    {
      "cell_type": "code",
      "source": [
        "from keras.datasets import fashion_mnist\n",
        "(x_train, y_train), (x_test, y_test)=fashion_mnist.load_data()\n",
        "x_train.shape"
      ],
      "metadata": {
        "colab": {
          "base_uri": "https://localhost:8080/"
        },
        "id": "NFPWDdWYGH2p",
        "outputId": "cc1f55ae-3fcf-4999-8515-5dc8ca9685fb"
      },
      "execution_count": null,
      "outputs": [
        {
          "output_type": "execute_result",
          "data": {
            "text/plain": [
              "(60000, 28, 28)"
            ]
          },
          "metadata": {},
          "execution_count": 105
        }
      ]
    },
    {
      "cell_type": "code",
      "source": [
        "y_train.shape"
      ],
      "metadata": {
        "colab": {
          "base_uri": "https://localhost:8080/"
        },
        "id": "8UTxFVlZHLMm",
        "outputId": "52ed0783-8820-4900-d64d-8a6e1ec01c81"
      },
      "execution_count": null,
      "outputs": [
        {
          "output_type": "execute_result",
          "data": {
            "text/plain": [
              "(60000,)"
            ]
          },
          "metadata": {},
          "execution_count": 53
        }
      ]
    },
    {
      "cell_type": "code",
      "source": [
        "x_test.shape"
      ],
      "metadata": {
        "colab": {
          "base_uri": "https://localhost:8080/"
        },
        "id": "YIhgxePaHWz5",
        "outputId": "a84c02e7-e777-489b-f2ad-009a53f7fb88"
      },
      "execution_count": null,
      "outputs": [
        {
          "output_type": "execute_result",
          "data": {
            "text/plain": [
              "(10000, 28, 28)"
            ]
          },
          "metadata": {},
          "execution_count": 54
        }
      ]
    },
    {
      "cell_type": "code",
      "source": [
        "y_test.shape"
      ],
      "metadata": {
        "colab": {
          "base_uri": "https://localhost:8080/"
        },
        "id": "f1Xsmm0hHc3K",
        "outputId": "292b4f28-04a2-43af-8fc8-2a12da135284"
      },
      "execution_count": null,
      "outputs": [
        {
          "output_type": "execute_result",
          "data": {
            "text/plain": [
              "(10000,)"
            ]
          },
          "metadata": {},
          "execution_count": 55
        }
      ]
    },
    {
      "cell_type": "code",
      "source": [
        "Class_names=['T-shirt/Top','Trousers','Pullover','Dress','Coat','Sandal','Shirt','Sneaker','Bag', 'Ankle boat']"
      ],
      "metadata": {
        "id": "vNnW1y84JlV0"
      },
      "execution_count": null,
      "outputs": []
    },
    {
      "cell_type": "code",
      "source": [
        "\n",
        "import matplotlib.pyplot as plt\n",
        "plt.imshow(x_train[160])\n",
        "plt.show()\n",
        "print(Class_names[y_train[160]])"
      ],
      "metadata": {
        "colab": {
          "base_uri": "https://localhost:8080/",
          "height": 282
        },
        "id": "BRSMuSntHgCz",
        "outputId": "0d3a9d64-0947-4d7b-8049-703a3a27a272"
      },
      "execution_count": null,
      "outputs": [
        {
          "output_type": "display_data",
          "data": {
            "text/plain": [
              "<Figure size 432x288 with 1 Axes>"
            ],
            "image/png": "[encoded data removed]"
          },
          "metadata": {
            "needs_background": "light"
          }
        },
        {
          "output_type": "stream",
          "name": "stdout",
          "text": [
            "T-shirt/Top\n"
          ]
        }
      ]
    },
    {
      "cell_type": "code",
      "source": [
        "from keras import models\n",
        "from keras import layers\n",
        "model= models.Sequential()\n",
        "model.add(layers.Dense(512,activation='relu',input_shape=(28*28,)))\n",
        "model.add(layers.Dense(10,activation='softmax'))\n",
        "model.summary()"
      ],
      "metadata": {
        "colab": {
          "base_uri": "https://localhost:8080/"
        },
        "id": "avy1gADKISUk",
        "outputId": "4d17e120-6cf9-4d3e-d3f4-ee61f7033615"
      },
      "execution_count": null,
      "outputs": [
        {
          "output_type": "stream",
          "name": "stdout",
          "text": [
            "Model: \"sequential_4\"\n",
            "_________________________________________________________________\n",
            " Layer (type)                Output Shape              Param #   \n",
            "=================================================================\n",
            " dense_8 (Dense)             (None, 512)               401920    \n",
            "                                                                 \n",
            " dense_9 (Dense)             (None, 10)                5130      \n",
            "                                                                 \n",
            "=================================================================\n",
            "Total params: 407,050\n",
            "Trainable params: 407,050\n",
            "Non-trainable params: 0\n",
            "_________________________________________________________________\n"
          ]
        }
      ]
    },
    {
      "cell_type": "code",
      "source": [
        "x_train=x_train.reshape((60000,28*28))\n",
        "x_train=x_train.astype('float32')/255\n",
        "x_test=x_test.reshape((10000,28*28))\n",
        "x_test=x_test.astype('float32')/255\n",
        "x_train.shape"
      ],
      "metadata": {
        "colab": {
          "base_uri": "https://localhost:8080/"
        },
        "id": "rkv6E2JkLMWm",
        "outputId": "5b5684c3-81fb-4c6e-99a3-ca4cf9d737c1"
      },
      "execution_count": null,
      "outputs": [
        {
          "output_type": "execute_result",
          "data": {
            "text/plain": [
              "(60000, 784)"
            ]
          },
          "metadata": {},
          "execution_count": 108
        }
      ]
    },
    {
      "cell_type": "code",
      "source": [
        "from keras.utils import to_categorical\n",
        "y_train= to_categorical(y_train)\n",
        "y_test= to_categorical(y_test)\n",
        "y_train.shape"
      ],
      "metadata": {
        "colab": {
          "base_uri": "https://localhost:8080/"
        },
        "id": "ChUZ6J7fL77E",
        "outputId": "67c5ab99-9920-4fb6-d7e6-9f5c03a2122c"
      },
      "execution_count": null,
      "outputs": [
        {
          "output_type": "execute_result",
          "data": {
            "text/plain": [
              "(60000, 10)"
            ]
          },
          "metadata": {},
          "execution_count": 109
        }
      ]
    },
    {
      "cell_type": "code",
      "source": [
        "model.compile(optimizer='rmsprop',loss='categorical_crossentropy',metrics=['accuracy'])\n",
        "model.fit(x_train,y_train,epochs=100,batch_size=128)\n"
      ],
      "metadata": {
        "colab": {
          "base_uri": "https://localhost:8080/"
        },
        "id": "KK-_419aMakc",
        "outputId": "9dab893c-356c-466e-b937-a92c267a4543"
      },
      "execution_count": null,
      "outputs": [
        {
          "output_type": "stream",
          "name": "stdout",
          "text": [
            "Epoch 1/100\n",
            "469/469 [==============================] - 7s 14ms/step - loss: 0.0573 - accuracy: 0.9822\n",
            "Epoch 2/100\n",
            "469/469 [==============================] - 6s 12ms/step - loss: 0.0529 - accuracy: 0.9835\n",
            "Epoch 3/100\n",
            "469/469 [==============================] - 6s 13ms/step - loss: 0.0523 - accuracy: 0.9843\n",
            "Epoch 4/100\n",
            "469/469 [==============================] - 5s 11ms/step - loss: 0.0522 - accuracy: 0.9840\n",
            "Epoch 5/100\n",
            "469/469 [==============================] - 5s 11ms/step - loss: 0.0493 - accuracy: 0.9843\n",
            "Epoch 6/100\n",
            "469/469 [==============================] - 5s 11ms/step - loss: 0.0559 - accuracy: 0.9840\n",
            "Epoch 7/100\n",
            "469/469 [==============================] - 5s 11ms/step - loss: 0.0523 - accuracy: 0.9840\n",
            "Epoch 8/100\n",
            "469/469 [==============================] - 10s 21ms/step - loss: 0.0502 - accuracy: 0.9854\n",
            "Epoch 9/100\n",
            "469/469 [==============================] - 7s 14ms/step - loss: 0.0527 - accuracy: 0.9837\n",
            "Epoch 10/100\n",
            "469/469 [==============================] - 5s 11ms/step - loss: 0.0545 - accuracy: 0.9838\n",
            "Epoch 11/100\n",
            "469/469 [==============================] - 5s 11ms/step - loss: 0.0528 - accuracy: 0.9849\n",
            "Epoch 12/100\n",
            "469/469 [==============================] - 9s 19ms/step - loss: 0.0483 - accuracy: 0.9855\n",
            "Epoch 13/100\n",
            "469/469 [==============================] - 9s 19ms/step - loss: 0.0477 - accuracy: 0.9855\n",
            "Epoch 14/100\n",
            "469/469 [==============================] - 5s 11ms/step - loss: 0.0519 - accuracy: 0.9849\n",
            "Epoch 15/100\n",
            "469/469 [==============================] - 6s 13ms/step - loss: 0.0495 - accuracy: 0.9855\n",
            "Epoch 16/100\n",
            "469/469 [==============================] - 5s 11ms/step - loss: 0.0515 - accuracy: 0.9849\n",
            "Epoch 17/100\n",
            "469/469 [==============================] - 6s 12ms/step - loss: 0.0464 - accuracy: 0.9861\n",
            "Epoch 18/100\n",
            "469/469 [==============================] - 8s 17ms/step - loss: 0.0494 - accuracy: 0.9856\n",
            "Epoch 19/100\n",
            "469/469 [==============================] - 5s 11ms/step - loss: 0.0497 - accuracy: 0.9853\n",
            "Epoch 20/100\n",
            "469/469 [==============================] - 5s 11ms/step - loss: 0.0480 - accuracy: 0.9863\n",
            "Epoch 21/100\n",
            "469/469 [==============================] - 5s 11ms/step - loss: 0.0458 - accuracy: 0.9866\n",
            "Epoch 22/100\n",
            "469/469 [==============================] - 5s 11ms/step - loss: 0.0464 - accuracy: 0.9865\n",
            "Epoch 23/100\n",
            "469/469 [==============================] - 7s 15ms/step - loss: 0.0447 - accuracy: 0.9866\n",
            "Epoch 24/100\n",
            "469/469 [==============================] - 6s 13ms/step - loss: 0.0454 - accuracy: 0.9869\n",
            "Epoch 25/100\n",
            "469/469 [==============================] - 5s 11ms/step - loss: 0.0450 - accuracy: 0.9866\n",
            "Epoch 26/100\n",
            "469/469 [==============================] - 5s 11ms/step - loss: 0.0479 - accuracy: 0.9865\n",
            "Epoch 27/100\n",
            "469/469 [==============================] - 5s 11ms/step - loss: 0.0461 - accuracy: 0.9868\n",
            "Epoch 28/100\n",
            "469/469 [==============================] - 5s 11ms/step - loss: 0.0447 - accuracy: 0.9873\n",
            "Epoch 29/100\n",
            "469/469 [==============================] - 8s 16ms/step - loss: 0.0464 - accuracy: 0.9869\n",
            "Epoch 30/100\n",
            "469/469 [==============================] - 5s 11ms/step - loss: 0.0472 - accuracy: 0.9861\n",
            "Epoch 31/100\n",
            "469/469 [==============================] - 6s 12ms/step - loss: 0.0459 - accuracy: 0.9866\n",
            "Epoch 32/100\n",
            "469/469 [==============================] - 5s 11ms/step - loss: 0.0421 - accuracy: 0.9876\n",
            "Epoch 33/100\n",
            "469/469 [==============================] - 5s 11ms/step - loss: 0.0435 - accuracy: 0.9875\n",
            "Epoch 34/100\n",
            "469/469 [==============================] - 5s 11ms/step - loss: 0.0465 - accuracy: 0.9877\n",
            "Epoch 35/100\n",
            "469/469 [==============================] - 10s 21ms/step - loss: 0.0426 - accuracy: 0.9875\n",
            "Epoch 36/100\n",
            "469/469 [==============================] - 6s 12ms/step - loss: 0.0421 - accuracy: 0.9876\n",
            "Epoch 37/100\n",
            "469/469 [==============================] - 5s 11ms/step - loss: 0.0471 - accuracy: 0.9875\n",
            "Epoch 38/100\n",
            "469/469 [==============================] - 5s 11ms/step - loss: 0.0454 - accuracy: 0.9878\n",
            "Epoch 39/100\n",
            "469/469 [==============================] - 5s 11ms/step - loss: 0.0431 - accuracy: 0.9882\n",
            "Epoch 40/100\n",
            "469/469 [==============================] - 8s 17ms/step - loss: 0.0429 - accuracy: 0.9879\n",
            "Epoch 41/100\n",
            "469/469 [==============================] - 5s 12ms/step - loss: 0.0419 - accuracy: 0.9887\n",
            "Epoch 42/100\n",
            "469/469 [==============================] - 5s 11ms/step - loss: 0.0440 - accuracy: 0.9883\n",
            "Epoch 43/100\n",
            "469/469 [==============================] - 5s 11ms/step - loss: 0.0408 - accuracy: 0.9884\n",
            "Epoch 44/100\n",
            "469/469 [==============================] - 5s 11ms/step - loss: 0.0400 - accuracy: 0.9891\n",
            "Epoch 45/100\n",
            "469/469 [==============================] - 8s 17ms/step - loss: 0.0392 - accuracy: 0.9886\n",
            "Epoch 46/100\n",
            "469/469 [==============================] - 7s 15ms/step - loss: 0.0399 - accuracy: 0.9890\n",
            "Epoch 47/100\n",
            "469/469 [==============================] - 5s 11ms/step - loss: 0.0392 - accuracy: 0.9887\n",
            "Epoch 48/100\n",
            "469/469 [==============================] - 5s 11ms/step - loss: 0.0361 - accuracy: 0.9895\n",
            "Epoch 49/100\n",
            "469/469 [==============================] - 5s 11ms/step - loss: 0.0385 - accuracy: 0.9891\n",
            "Epoch 50/100\n",
            "469/469 [==============================] - 5s 11ms/step - loss: 0.0426 - accuracy: 0.9883\n",
            "Epoch 51/100\n",
            "469/469 [==============================] - 7s 16ms/step - loss: 0.0408 - accuracy: 0.9894\n",
            "Epoch 52/100\n",
            "469/469 [==============================] - 5s 11ms/step - loss: 0.0398 - accuracy: 0.9889\n",
            "Epoch 53/100\n",
            "469/469 [==============================] - 5s 11ms/step - loss: 0.0388 - accuracy: 0.9892\n",
            "Epoch 54/100\n",
            "469/469 [==============================] - 5s 11ms/step - loss: 0.0401 - accuracy: 0.9892\n",
            "Epoch 55/100\n",
            "469/469 [==============================] - 5s 12ms/step - loss: 0.0389 - accuracy: 0.9892\n",
            "Epoch 56/100\n",
            "469/469 [==============================] - 6s 12ms/step - loss: 0.0380 - accuracy: 0.9894\n",
            "Epoch 57/100\n",
            "469/469 [==============================] - 7s 15ms/step - loss: 0.0369 - accuracy: 0.9901\n",
            "Epoch 58/100\n",
            "469/469 [==============================] - 5s 11ms/step - loss: 0.0387 - accuracy: 0.9897\n",
            "Epoch 59/100\n",
            "469/469 [==============================] - 5s 11ms/step - loss: 0.0428 - accuracy: 0.9888\n",
            "Epoch 60/100\n",
            "469/469 [==============================] - 5s 11ms/step - loss: 0.0375 - accuracy: 0.9895\n",
            "Epoch 61/100\n",
            "469/469 [==============================] - 5s 11ms/step - loss: 0.0382 - accuracy: 0.9897\n",
            "Epoch 62/100\n",
            "469/469 [==============================] - 7s 14ms/step - loss: 0.0377 - accuracy: 0.9901\n",
            "Epoch 63/100\n",
            "469/469 [==============================] - 6s 13ms/step - loss: 0.0417 - accuracy: 0.9894\n",
            "Epoch 64/100\n",
            "469/469 [==============================] - 5s 11ms/step - loss: 0.0414 - accuracy: 0.9889\n",
            "Epoch 65/100\n",
            "469/469 [==============================] - 6s 12ms/step - loss: 0.0410 - accuracy: 0.9893\n",
            "Epoch 66/100\n",
            "469/469 [==============================] - 5s 12ms/step - loss: 0.0386 - accuracy: 0.9899\n",
            "Epoch 67/100\n",
            "469/469 [==============================] - 5s 11ms/step - loss: 0.0347 - accuracy: 0.9907\n",
            "Epoch 68/100\n",
            "469/469 [==============================] - 9s 18ms/step - loss: 0.0375 - accuracy: 0.9900\n",
            "Epoch 69/100\n",
            "469/469 [==============================] - 7s 15ms/step - loss: 0.0347 - accuracy: 0.9908\n",
            "Epoch 70/100\n",
            "469/469 [==============================] - 5s 11ms/step - loss: 0.0323 - accuracy: 0.9909\n",
            "Epoch 71/100\n",
            "469/469 [==============================] - 5s 11ms/step - loss: 0.0337 - accuracy: 0.9908\n",
            "Epoch 72/100\n",
            "469/469 [==============================] - 5s 11ms/step - loss: 0.0361 - accuracy: 0.9904\n",
            "Epoch 73/100\n",
            "469/469 [==============================] - 7s 15ms/step - loss: 0.0360 - accuracy: 0.9905\n",
            "Epoch 74/100\n",
            "469/469 [==============================] - 6s 13ms/step - loss: 0.0366 - accuracy: 0.9908\n",
            "Epoch 75/100\n",
            "469/469 [==============================] - 5s 11ms/step - loss: 0.0365 - accuracy: 0.9908\n",
            "Epoch 76/100\n",
            "469/469 [==============================] - 5s 11ms/step - loss: 0.0363 - accuracy: 0.9910\n",
            "Epoch 77/100\n",
            "469/469 [==============================] - 5s 12ms/step - loss: 0.0328 - accuracy: 0.9912\n",
            "Epoch 78/100\n",
            "469/469 [==============================] - 6s 12ms/step - loss: 0.0337 - accuracy: 0.9908\n",
            "Epoch 79/100\n",
            "469/469 [==============================] - 9s 20ms/step - loss: 0.0336 - accuracy: 0.9909\n",
            "Epoch 80/100\n",
            "469/469 [==============================] - 5s 11ms/step - loss: 0.0342 - accuracy: 0.9908\n",
            "Epoch 81/100\n",
            "469/469 [==============================] - 5s 11ms/step - loss: 0.0326 - accuracy: 0.9917\n",
            "Epoch 82/100\n",
            "469/469 [==============================] - 5s 11ms/step - loss: 0.0332 - accuracy: 0.9915\n",
            "Epoch 83/100\n",
            "469/469 [==============================] - 5s 12ms/step - loss: 0.0342 - accuracy: 0.9912\n",
            "Epoch 84/100\n",
            "469/469 [==============================] - 7s 16ms/step - loss: 0.0337 - accuracy: 0.9911\n",
            "Epoch 85/100\n",
            "469/469 [==============================] - 5s 11ms/step - loss: 0.0329 - accuracy: 0.9915\n",
            "Epoch 86/100\n",
            "469/469 [==============================] - 5s 11ms/step - loss: 0.0321 - accuracy: 0.9917\n",
            "Epoch 87/100\n",
            "469/469 [==============================] - 5s 11ms/step - loss: 0.0345 - accuracy: 0.9914\n",
            "Epoch 88/100\n",
            "469/469 [==============================] - 5s 11ms/step - loss: 0.0314 - accuracy: 0.9917\n",
            "Epoch 89/100\n",
            "469/469 [==============================] - 5s 12ms/step - loss: 0.0317 - accuracy: 0.9916\n",
            "Epoch 90/100\n",
            "469/469 [==============================] - 8s 17ms/step - loss: 0.0354 - accuracy: 0.9913\n",
            "Epoch 91/100\n",
            "469/469 [==============================] - 5s 11ms/step - loss: 0.0331 - accuracy: 0.9915\n",
            "Epoch 92/100\n",
            "469/469 [==============================] - 5s 11ms/step - loss: 0.0350 - accuracy: 0.9918\n",
            "Epoch 93/100\n",
            "469/469 [==============================] - 5s 11ms/step - loss: 0.0321 - accuracy: 0.9914\n",
            "Epoch 94/100\n",
            "469/469 [==============================] - 5s 11ms/step - loss: 0.0324 - accuracy: 0.9916\n",
            "Epoch 95/100\n",
            "469/469 [==============================] - 5s 12ms/step - loss: 0.0314 - accuracy: 0.9918\n",
            "Epoch 96/100\n",
            "469/469 [==============================] - 7s 15ms/step - loss: 0.0295 - accuracy: 0.9924\n",
            "Epoch 97/100\n",
            "469/469 [==============================] - 5s 11ms/step - loss: 0.0346 - accuracy: 0.9912\n",
            "Epoch 98/100\n",
            "469/469 [==============================] - 5s 11ms/step - loss: 0.0327 - accuracy: 0.9918\n",
            "Epoch 99/100\n",
            "469/469 [==============================] - 5s 11ms/step - loss: 0.0289 - accuracy: 0.9925\n",
            "Epoch 100/100\n",
            "469/469 [==============================] - 5s 11ms/step - loss: 0.0346 - accuracy: 0.9917\n"
          ]
        },
        {
          "output_type": "execute_result",
          "data": {
            "text/plain": [
              "<keras.callbacks.History at 0x7fdc07200650>"
            ]
          },
          "metadata": {},
          "execution_count": 124
        }
      ]
    },
    {
      "cell_type": "code",
      "source": [
        "test_loss, test_acc=model.evaluate(x_test,y_test)\n",
        "print('Test accuracy:',test_acc)"
      ],
      "metadata": {
        "colab": {
          "base_uri": "https://localhost:8080/"
        },
        "id": "jAwwBl7WMkZu",
        "outputId": "c3554212-2ff8-462f-a517-45ebba6be9dc"
      },
      "execution_count": null,
      "outputs": [
        {
          "output_type": "stream",
          "name": "stdout",
          "text": [
            "313/313 [==============================] - 2s 5ms/step - loss: 1.8750 - accuracy: 0.8848\n",
            "Test accuracy: 0.8848000168800354\n"
          ]
        }
      ]
    },
    {
      "cell_type": "code",
      "source": [
        "import matplotlib.pyplot as plt\n",
        "from tensorflow.keras.utils import load_img\n",
        "from tensorflow.keras.utils import img_to_array\n",
        "url='/content/giay.webp'\n",
        "img = load_img(url,target_size=(28,28))\n",
        "plt.imshow(img)\n"
      ],
      "metadata": {
        "colab": {
          "base_uri": "https://localhost:8080/",
          "height": 282
        },
        "id": "o2bTg60zNNyr",
        "outputId": "5bb957e0-c001-4888-d66c-9e08f6cbe3f6"
      },
      "execution_count": null,
      "outputs": [
        {
          "output_type": "execute_result",
          "data": {
            "text/plain": [
              "<matplotlib.image.AxesImage at 0x7fdc0d18abd0>"
            ]
          },
          "metadata": {},
          "execution_count": 127
        },
        {
          "output_type": "display_data",
          "data": {
            "text/plain": [
              "<Figure size 432x288 with 1 Axes>"
            ],
            "image/png": "[encoded data removed]"
          },
          "metadata": {
            "needs_background": "light"
          }
        }
      ]
    },
    {
      "cell_type": "code",
      "source": [
        "from inspect import classify_class_attrs\n",
        "from keras.utils import img_to_array\n",
        "import numpy as np \n",
        "from keras.utils import load_img\n",
        "img = load_img('/content/giay.webp',target_size = (28,28))\n",
        "plt.imshow(img)\n",
        "img = img_to_array(img)\n",
        "img = img[:,:,0]\n",
        "img = img.astype('float32')\n",
        "img = img/255\n",
        "img = img.reshape(1,784)\n",
        "print(np.argmax(model.predict(img), axis = 1))\n",
        "print(model.predict(img))\n"
      ],
      "metadata": {
        "colab": {
          "base_uri": "https://localhost:8080/",
          "height": 334
        },
        "id": "pHqX8pfxmteM",
        "outputId": "4cc277eb-3539-4123-ae05-49f2327339a6"
      },
      "execution_count": null,
      "outputs": [
        {
          "output_type": "stream",
          "name": "stdout",
          "text": [
            "1/1 [==============================] - 0s 43ms/step\n",
            "[8]\n",
            "1/1 [==============================] - 0s 17ms/step\n",
            "[[0. 0. 0. 0. 0. 0. 0. 0. 1. 0.]]\n"
          ]
        },
        {
          "output_type": "display_data",
          "data": {
            "text/plain": [
              "<Figure size 432x288 with 1 Axes>"
            ],
            "image/png": "[encoded data removed]"
          },
          "metadata": {
            "needs_background": "light"
          }
        }
      ]
    },
    {
      "cell_type": "code",
      "source": [],
      "metadata": {
        "id": "7ewUFINFnspx"
      },
      "execution_count": null,
      "outputs": []
    }
  ]
}